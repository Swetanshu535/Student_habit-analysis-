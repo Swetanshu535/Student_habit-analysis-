{
 "cells": [
  {
   "cell_type": "code",
   "execution_count": 3,
   "id": "00c8929a-c20f-4a3d-a0fb-ac83fe7ba6f7",
   "metadata": {},
   "outputs": [
    {
     "name": "stdout",
     "output_type": "stream",
     "text": [
      "   student_id  age  gender  study_hours_per_day  social_media_hours  \\\n",
      "0       S1000   23  Female                  0.0                 1.2   \n",
      "1       S1001   20  Female                  6.9                 2.8   \n",
      "2       S1002   21    Male                  1.4                 3.1   \n",
      "3       S1003   23  Female                  1.0                 3.9   \n",
      "4       S1004   19  Female                  5.0                 4.4   \n",
      "5       S1005   24    Male                  7.2                 1.3   \n",
      "6       S1006   21  Female                  5.6                 1.5   \n",
      "7       S1007   21  Female                  4.3                 1.0   \n",
      "8       S1008   23  Female                  4.4                 2.2   \n",
      "9       S1009   18  Female                  4.8                 3.1   \n",
      "10      S1010   19  Female                  4.6                 3.7   \n",
      "11      S1011   23    Male                  3.9                 2.4   \n",
      "12      S1012   19  Female                  3.7                 2.1   \n",
      "13      S1013   19  Female                  3.4                 2.7   \n",
      "14      S1014   24    Male                  2.4                 1.5   \n",
      "15      S1015   21    Male                  3.1                 5.0   \n",
      "16      S1016   20    Male                  1.0                 0.6   \n",
      "17      S1017   24  Female                  3.4                 2.7   \n",
      "18      S1018   24   Other                  2.0                 4.9   \n",
      "19      S1019   19    Male                  1.8                 2.5   \n",
      "20      S1020   22  Female                  3.8                 2.3   \n",
      "21      S1021   21    Male                  5.6                 2.1   \n",
      "22      S1022   18   Other                  4.9                 2.3   \n",
      "23      S1023   24  Female                  1.1                 4.1   \n",
      "\n",
      "    netflix_hours part_time_job  attendance_percentage  sleep_hours  \\\n",
      "0             1.1            No                   85.0          8.0   \n",
      "1             2.3            No                   97.3          4.6   \n",
      "2             1.3            No                   94.8          8.0   \n",
      "3             1.0            No                   71.0          9.2   \n",
      "4             0.5            No                   90.9          4.9   \n",
      "5             0.0            No                   82.9          7.4   \n",
      "6             1.4           Yes                   85.8          6.5   \n",
      "7             2.0           Yes                   77.7          4.6   \n",
      "8             1.7            No                  100.0          7.1   \n",
      "9             1.3            No                   95.4          7.5   \n",
      "10            0.8            No                   77.6          5.8   \n",
      "11            2.5            No                   71.7          7.9   \n",
      "12            0.4           Yes                   81.1          4.5   \n",
      "13            2.7            No                   89.3          4.7   \n",
      "14            0.7            No                   87.4          6.7   \n",
      "15            1.0            No                   97.5          6.5   \n",
      "16            0.2            No                   92.9          5.6   \n",
      "17            1.2            No                   94.7          7.5   \n",
      "18            2.9           Yes                   88.3          7.1   \n",
      "19            2.4            No                   71.1          7.5   \n",
      "20            2.9            No                   83.0          6.4   \n",
      "21            2.4            No                   95.6          7.2   \n",
      "22            0.6            No                   84.5          6.0   \n",
      "23            1.4           Yes                   90.0          9.0   \n",
      "\n",
      "   diet_quality  exercise_frequency parental_education_level internet_quality  \\\n",
      "0          Fair                   6                   Master          Average   \n",
      "1          Good                   6              High School          Average   \n",
      "2          Poor                   1              High School             Poor   \n",
      "3          Poor                   4                   Master             Good   \n",
      "4          Fair                   3                   Master             Good   \n",
      "5          Fair                   1                   Master          Average   \n",
      "6          Good                   2                   Master             Poor   \n",
      "7          Fair                   0                 Bachelor          Average   \n",
      "8          Good                   3                 Bachelor             Good   \n",
      "9          Good                   5                 Bachelor             Good   \n",
      "10         Fair                   1                      NaN             Good   \n",
      "11         Fair                   2                 Bachelor          Average   \n",
      "12         Fair                   1                 Bachelor             Good   \n",
      "13         Fair                   4                 Bachelor             Good   \n",
      "14         Poor                   6                 Bachelor          Average   \n",
      "15         Good                   6              High School          Average   \n",
      "16         Poor                   3              High School             Poor   \n",
      "17         Poor                   0              High School          Average   \n",
      "18         Good                   2              High School             Good   \n",
      "19         Fair                   1              High School          Average   \n",
      "20         Good                   3                   Master             Good   \n",
      "21         Fair                   1              High School             Good   \n",
      "22         Fair                   3              High School          Average   \n",
      "23         Fair                   6                 Bachelor             Good   \n",
      "\n",
      "    mental_health_rating extracurricular_participation  exam_score  \n",
      "0                      8                           Yes        56.2  \n",
      "1                      8                            No       100.0  \n",
      "2                      1                            No        34.3  \n",
      "3                      1                           Yes        26.8  \n",
      "4                      1                            No        66.4  \n",
      "5                      4                            No       100.0  \n",
      "6                      4                            No        89.8  \n",
      "7                      8                            No        72.6  \n",
      "8                      1                            No        78.9  \n",
      "9                     10                           Yes       100.0  \n",
      "10                     3                            No        63.3  \n",
      "11                     1                            No        74.4  \n",
      "12                     9                            No        76.9  \n",
      "13                    10                            No        75.8  \n",
      "14                     9                            No        78.9  \n",
      "15                     7                            No        74.0  \n",
      "16                     8                           Yes        55.2  \n",
      "17                     1                           Yes        70.8  \n",
      "18                     5                            No        43.9  \n",
      "19                     2                            No        45.3  \n",
      "20                     1                            No        58.5  \n",
      "21                     3                            No        82.5  \n",
      "22                     7                            No        98.7  \n",
      "23                     1                            No        43.7  \n"
     ]
    }
   ],
   "source": [
    "import pandas as pd\n",
    "import numpy as np\n",
    "import matplotlib.pyplot as plt\n",
    "import seaborn as sns\n",
    "df=pd.read_csv(\"C:\\\\Users\\\\Swetanshu\\\\Desktop\\\\Student_habit .csv\")\n",
    "print(df)"
   ]
  },
  {
   "cell_type": "code",
   "execution_count": 11,
   "id": "595feaa7-a8a6-499b-97e4-736d94a57eb0",
   "metadata": {},
   "outputs": [
    {
     "name": "stdout",
     "output_type": "stream",
     "text": [
      "gender               Female  Male  Other\n",
      "study_hours_per_day                     \n",
      "0.0                       1     0      0\n",
      "1.0                       1     1      0\n",
      "1.1                       1     0      0\n",
      "1.4                       0     1      0\n",
      "1.8                       0     1      0\n",
      "2.0                       0     0      1\n",
      "2.4                       0     1      0\n",
      "3.1                       0     1      0\n",
      "3.4                       2     0      0\n",
      "3.7                       1     0      0\n",
      "3.8                       1     0      0\n",
      "3.9                       0     1      0\n",
      "4.3                       1     0      0\n",
      "4.4                       1     0      0\n",
      "4.6                       1     0      0\n",
      "4.8                       1     0      0\n",
      "4.9                       0     0      1\n",
      "5.0                       1     0      0\n",
      "5.6                       1     1      0\n",
      "6.9                       1     0      0\n",
      "7.2                       0     1      0\n"
     ]
    },
    {
     "ename": "KeyError",
     "evalue": "'2 hours'",
     "output_type": "error",
     "traceback": [
      "\u001b[1;31m---------------------------------------------------------------------------\u001b[0m",
      "\u001b[1;31mKeyError\u001b[0m                                  Traceback (most recent call last)",
      "File \u001b[1;32m~\\anaconda3\\Lib\\site-packages\\pandas\\core\\indexes\\base.py:3805\u001b[0m, in \u001b[0;36mIndex.get_loc\u001b[1;34m(self, key)\u001b[0m\n\u001b[0;32m   3804\u001b[0m \u001b[38;5;28;01mtry\u001b[39;00m:\n\u001b[1;32m-> 3805\u001b[0m     \u001b[38;5;28;01mreturn\u001b[39;00m \u001b[38;5;28mself\u001b[39m\u001b[38;5;241m.\u001b[39m_engine\u001b[38;5;241m.\u001b[39mget_loc(casted_key)\n\u001b[0;32m   3806\u001b[0m \u001b[38;5;28;01mexcept\u001b[39;00m \u001b[38;5;167;01mKeyError\u001b[39;00m \u001b[38;5;28;01mas\u001b[39;00m err:\n",
      "File \u001b[1;32mindex.pyx:167\u001b[0m, in \u001b[0;36mpandas._libs.index.IndexEngine.get_loc\u001b[1;34m()\u001b[0m\n",
      "File \u001b[1;32mindex.pyx:175\u001b[0m, in \u001b[0;36mpandas._libs.index.IndexEngine.get_loc\u001b[1;34m()\u001b[0m\n",
      "File \u001b[1;32mpandas\\\\_libs\\\\index_class_helper.pxi:19\u001b[0m, in \u001b[0;36mpandas._libs.index.Float64Engine._check_type\u001b[1;34m()\u001b[0m\n",
      "\u001b[1;31mKeyError\u001b[0m: '2 hours'",
      "\nThe above exception was the direct cause of the following exception:\n",
      "\u001b[1;31mKeyError\u001b[0m                                  Traceback (most recent call last)",
      "Cell \u001b[1;32mIn[11], line 3\u001b[0m\n\u001b[0;32m      1\u001b[0m grouped \u001b[38;5;241m=\u001b[39m df\u001b[38;5;241m.\u001b[39mgroupby(\u001b[38;5;124m'\u001b[39m\u001b[38;5;124mstudy_hours_per_day\u001b[39m\u001b[38;5;124m'\u001b[39m)[\u001b[38;5;124m'\u001b[39m\u001b[38;5;124mgender\u001b[39m\u001b[38;5;124m'\u001b[39m]\u001b[38;5;241m.\u001b[39mvalue_counts()\u001b[38;5;241m.\u001b[39munstack(fill_value\u001b[38;5;241m=\u001b[39m\u001b[38;5;241m0\u001b[39m)\n\u001b[0;32m      2\u001b[0m \u001b[38;5;28mprint\u001b[39m(grouped)\n\u001b[1;32m----> 3\u001b[0m data \u001b[38;5;241m=\u001b[39m grouped\u001b[38;5;241m.\u001b[39mloc[\u001b[38;5;124m'\u001b[39m\u001b[38;5;124m2 hours\u001b[39m\u001b[38;5;124m'\u001b[39m]\n\u001b[0;32m      4\u001b[0m plt\u001b[38;5;241m.\u001b[39mfigure(figsize\u001b[38;5;241m=\u001b[39m(\u001b[38;5;241m10\u001b[39m,\u001b[38;5;241m6\u001b[39m))\n\u001b[0;32m      5\u001b[0m plt\u001b[38;5;241m.\u001b[39mpie(data, labels\u001b[38;5;241m=\u001b[39mdata\u001b[38;5;241m.\u001b[39mindex, autopct\u001b[38;5;241m=\u001b[39m\u001b[38;5;124m'\u001b[39m\u001b[38;5;132;01m%1.1f\u001b[39;00m\u001b[38;5;132;01m%%\u001b[39;00m\u001b[38;5;124m'\u001b[39m, startangle\u001b[38;5;241m=\u001b[39m\u001b[38;5;241m140\u001b[39m)\n",
      "File \u001b[1;32m~\\anaconda3\\Lib\\site-packages\\pandas\\core\\indexing.py:1191\u001b[0m, in \u001b[0;36m_LocationIndexer.__getitem__\u001b[1;34m(self, key)\u001b[0m\n\u001b[0;32m   1189\u001b[0m maybe_callable \u001b[38;5;241m=\u001b[39m com\u001b[38;5;241m.\u001b[39mapply_if_callable(key, \u001b[38;5;28mself\u001b[39m\u001b[38;5;241m.\u001b[39mobj)\n\u001b[0;32m   1190\u001b[0m maybe_callable \u001b[38;5;241m=\u001b[39m \u001b[38;5;28mself\u001b[39m\u001b[38;5;241m.\u001b[39m_check_deprecated_callable_usage(key, maybe_callable)\n\u001b[1;32m-> 1191\u001b[0m \u001b[38;5;28;01mreturn\u001b[39;00m \u001b[38;5;28mself\u001b[39m\u001b[38;5;241m.\u001b[39m_getitem_axis(maybe_callable, axis\u001b[38;5;241m=\u001b[39maxis)\n",
      "File \u001b[1;32m~\\anaconda3\\Lib\\site-packages\\pandas\\core\\indexing.py:1431\u001b[0m, in \u001b[0;36m_LocIndexer._getitem_axis\u001b[1;34m(self, key, axis)\u001b[0m\n\u001b[0;32m   1429\u001b[0m \u001b[38;5;66;03m# fall thru to straight lookup\u001b[39;00m\n\u001b[0;32m   1430\u001b[0m \u001b[38;5;28mself\u001b[39m\u001b[38;5;241m.\u001b[39m_validate_key(key, axis)\n\u001b[1;32m-> 1431\u001b[0m \u001b[38;5;28;01mreturn\u001b[39;00m \u001b[38;5;28mself\u001b[39m\u001b[38;5;241m.\u001b[39m_get_label(key, axis\u001b[38;5;241m=\u001b[39maxis)\n",
      "File \u001b[1;32m~\\anaconda3\\Lib\\site-packages\\pandas\\core\\indexing.py:1381\u001b[0m, in \u001b[0;36m_LocIndexer._get_label\u001b[1;34m(self, label, axis)\u001b[0m\n\u001b[0;32m   1379\u001b[0m \u001b[38;5;28;01mdef\u001b[39;00m \u001b[38;5;21m_get_label\u001b[39m(\u001b[38;5;28mself\u001b[39m, label, axis: AxisInt):\n\u001b[0;32m   1380\u001b[0m     \u001b[38;5;66;03m# GH#5567 this will fail if the label is not present in the axis.\u001b[39;00m\n\u001b[1;32m-> 1381\u001b[0m     \u001b[38;5;28;01mreturn\u001b[39;00m \u001b[38;5;28mself\u001b[39m\u001b[38;5;241m.\u001b[39mobj\u001b[38;5;241m.\u001b[39mxs(label, axis\u001b[38;5;241m=\u001b[39maxis)\n",
      "File \u001b[1;32m~\\anaconda3\\Lib\\site-packages\\pandas\\core\\generic.py:4301\u001b[0m, in \u001b[0;36mNDFrame.xs\u001b[1;34m(self, key, axis, level, drop_level)\u001b[0m\n\u001b[0;32m   4299\u001b[0m             new_index \u001b[38;5;241m=\u001b[39m index[loc]\n\u001b[0;32m   4300\u001b[0m \u001b[38;5;28;01melse\u001b[39;00m:\n\u001b[1;32m-> 4301\u001b[0m     loc \u001b[38;5;241m=\u001b[39m index\u001b[38;5;241m.\u001b[39mget_loc(key)\n\u001b[0;32m   4303\u001b[0m     \u001b[38;5;28;01mif\u001b[39;00m \u001b[38;5;28misinstance\u001b[39m(loc, np\u001b[38;5;241m.\u001b[39mndarray):\n\u001b[0;32m   4304\u001b[0m         \u001b[38;5;28;01mif\u001b[39;00m loc\u001b[38;5;241m.\u001b[39mdtype \u001b[38;5;241m==\u001b[39m np\u001b[38;5;241m.\u001b[39mbool_:\n",
      "File \u001b[1;32m~\\anaconda3\\Lib\\site-packages\\pandas\\core\\indexes\\base.py:3812\u001b[0m, in \u001b[0;36mIndex.get_loc\u001b[1;34m(self, key)\u001b[0m\n\u001b[0;32m   3807\u001b[0m     \u001b[38;5;28;01mif\u001b[39;00m \u001b[38;5;28misinstance\u001b[39m(casted_key, \u001b[38;5;28mslice\u001b[39m) \u001b[38;5;129;01mor\u001b[39;00m (\n\u001b[0;32m   3808\u001b[0m         \u001b[38;5;28misinstance\u001b[39m(casted_key, abc\u001b[38;5;241m.\u001b[39mIterable)\n\u001b[0;32m   3809\u001b[0m         \u001b[38;5;129;01mand\u001b[39;00m \u001b[38;5;28many\u001b[39m(\u001b[38;5;28misinstance\u001b[39m(x, \u001b[38;5;28mslice\u001b[39m) \u001b[38;5;28;01mfor\u001b[39;00m x \u001b[38;5;129;01min\u001b[39;00m casted_key)\n\u001b[0;32m   3810\u001b[0m     ):\n\u001b[0;32m   3811\u001b[0m         \u001b[38;5;28;01mraise\u001b[39;00m InvalidIndexError(key)\n\u001b[1;32m-> 3812\u001b[0m     \u001b[38;5;28;01mraise\u001b[39;00m \u001b[38;5;167;01mKeyError\u001b[39;00m(key) \u001b[38;5;28;01mfrom\u001b[39;00m \u001b[38;5;21;01merr\u001b[39;00m\n\u001b[0;32m   3813\u001b[0m \u001b[38;5;28;01mexcept\u001b[39;00m \u001b[38;5;167;01mTypeError\u001b[39;00m:\n\u001b[0;32m   3814\u001b[0m     \u001b[38;5;66;03m# If we have a listlike key, _check_indexing_error will raise\u001b[39;00m\n\u001b[0;32m   3815\u001b[0m     \u001b[38;5;66;03m#  InvalidIndexError. Otherwise we fall through and re-raise\u001b[39;00m\n\u001b[0;32m   3816\u001b[0m     \u001b[38;5;66;03m#  the TypeError.\u001b[39;00m\n\u001b[0;32m   3817\u001b[0m     \u001b[38;5;28mself\u001b[39m\u001b[38;5;241m.\u001b[39m_check_indexing_error(key)\n",
      "\u001b[1;31mKeyError\u001b[0m: '2 hours'"
     ]
    }
   ],
   "source": [
    "grouped = df.groupby('study_hours_per_day')['gender'].value_counts().unstack(fill_value=0)\n",
    "print(grouped)\n",
    "data = grouped.loc['2 hours']\n",
    "plt.figure(figsize=(10,6))\n",
    "plt.pie(data, labels=data.index, autopct='%1.1f%%', startangle=140)\n",
    "plt.title(\"Gender and study hours\")\n",
    "plt.axis(\"Equal\")\n",
    "plt.show"
   ]
  },
  {
   "cell_type": "code",
   "execution_count": 13,
   "id": "3298e053-2120-4b06-95c1-565ba9c1dfba",
   "metadata": {},
   "outputs": [
    {
     "name": "stdout",
     "output_type": "stream",
     "text": [
      "gender\n",
      "Female    52.0\n",
      "Male      26.4\n",
      "Other      6.9\n",
      "Name: study_hours_per_day, dtype: float64\n",
      "gender\n",
      "Female    14\n",
      "Male       8\n",
      "Other      2\n",
      "Name: study_hours_per_day, dtype: int64\n"
     ]
    },
    {
     "data": {
      "image/png": "[encoded data removed]",
      "text/plain": [
       "<Figure size 800x600 with 1 Axes>"
      ]
     },
     "metadata": {},
     "output_type": "display_data"
    }
   ],
   "source": [
    "grouped=df.groupby('gender')['study_hours_per_day'].sum()\n",
    "print(grouped)\n",
    "grouped=df.groupby('gender')['study_hours_per_day'].count()\n",
    "print(grouped)\n",
    "plt.figure(figsize=(8,6))\n",
    "plt.pie(grouped, labels=grouped.index, autopct='%1.1f%%', startangle=140)\n",
    "plt.title(\"Total Study Participation by Gender\")\n",
    "plt.axis('equal')\n",
    "plt.show()"
   ]
  },
  {
   "cell_type": "code",
   "execution_count": null,
   "id": "c52e7926-7ee3-48da-bc13-50471112c0d3",
   "metadata": {},
   "outputs": [],
   "source": []
  },
  {
   "cell_type": "code",
   "execution_count": null,
   "id": "bc5e61dd-136d-4fe3-ba59-17def524a846",
   "metadata": {},
   "outputs": [],
   "source": []
  },
  {
   "cell_type": "code",
   "execution_count": null,
   "id": "31cbed2a-6891-4a44-a843-d8930714982b",
   "metadata": {},
   "outputs": [],
   "source": []
  },
  {
   "cell_type": "code",
   "execution_count": null,
   "id": "e149b6e8-e970-4eb9-98a6-061728740b8f",
   "metadata": {},
   "outputs": [],
   "source": []
  },
  {
   "cell_type": "code",
   "execution_count": null,
   "id": "74e0022f-8c4f-41ac-b79d-c72b98b8db2d",
   "metadata": {},
   "outputs": [],
   "source": []
  },
  {
   "cell_type": "code",
   "execution_count": null,
   "id": "6c2836b8-d1cb-4e1d-a485-bc5ef59ee8de",
   "metadata": {},
   "outputs": [],
   "source": []
  },
  {
   "cell_type": "code",
   "execution_count": null,
   "id": "928bcbbc-6353-4338-931d-2bff4ab2857f",
   "metadata": {},
   "outputs": [],
   "source": []
  },
  {
   "cell_type": "code",
   "execution_count": null,
   "id": "d9908840-58a2-4680-b165-acec592f7534",
   "metadata": {},
   "outputs": [],
   "source": []
  },
  {
   "cell_type": "code",
   "execution_count": null,
   "id": "ab263de9-af86-40d3-a94b-d5cbf61ba23a",
   "metadata": {},
   "outputs": [],
   "source": []
  },
  {
   "cell_type": "code",
   "execution_count": null,
   "id": "eba14477-3cc0-4f53-821f-7f3b9b2a39ab",
   "metadata": {},
   "outputs": [],
   "source": []
  },
  {
   "cell_type": "code",
   "execution_count": null,
   "id": "0b38abd3-f009-45ea-bec3-ca548a16803c",
   "metadata": {},
   "outputs": [],
   "source": []
  }
 ],
 "metadata": {
  "kernelspec": {
   "display_name": "Python [conda env:base] *",
   "language": "python",
   "name": "conda-base-py"
  },
  "language_info": {
   "codemirror_mode": {
    "name": "ipython",
    "version": 3
   },
   "file_extension": ".py",
   "mimetype": "text/x-python",
   "name": "python",
   "nbconvert_exporter": "python",
   "pygments_lexer": "ipython3",
   "version": "3.12.7"
  }
 },
 "nbformat": 4,
 "nbformat_minor": 5
}
